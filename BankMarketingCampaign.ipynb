{
 "cells": [
  {
   "attachments": {},
   "cell_type": "markdown",
   "metadata": {},
   "source": [
    "# **BANK MARKETING CAMPAIGN**"
   ]
  },
  {
   "attachments": {},
   "cell_type": "markdown",
   "metadata": {},
   "source": [
    "## Business Problem Understanding"
   ]
  },
  {
   "attachments": {},
   "cell_type": "markdown",
   "metadata": {},
   "source": [
    "#### **Context:**\n",
    "\n",
    "Sebuah bank memiliki produk deposito berjangka (*term deposit*). *Term deposits* adalah sebuah produk bank yang berfungsi untuk menaruh uang dan dapat ditarik dalam jangka waktu yang ditetapkan. Tim *marketing* dari *term deposit* ini melakukan request kepada tim *data science* untuk mengetahui apakah *campaign marketing* yang dibuat oleh tim *marketing* menghasilkan nasabah yang akhirnya membeli *term deposit*. Pihak bank ingin dapat memprediksi nasabah yang akan membeli produk *term deposits* atau tidak. Sehingga, pihak bank dapat melakukan efisiensi biaya untuk melakukan *campaign*. Didapatkan data umur, pekerjaan, *balance*(saldo), *housing* dan *loan*(peminjaman) dari pihak customer.\n",
    "\n",
    "Target :\n",
    "\n",
    "**1** : Deposit\n",
    "\n",
    "**0** : Not Deposit"
   ]
  },
  {
   "attachments": {},
   "cell_type": "markdown",
   "metadata": {},
   "source": [
    "#### **Problem Statement:**\n",
    "\n",
    "Proses *campaign* yang dilakukan kepada banyak orang secara *random* membutuhkan waktu dan dana yang banyak. Sehingga, pihak bank menyia-nyiakan waktu dan dana untuk melakukan campaign pada orang yang tidak tepat. Tim *marketing* dapat melakukan *campaign* untuk orang-orang yang ingin membeli  *term deposit* ini. Pihak bank lebih menghindari orang yang terprediksi membeli *term deposit*, namun akhirnya tidak membeli produk *term deposit*.\n",
    "\n",
    "\n",
    "#### **Goals:**\n",
    "\n",
    "Berdasarkan permasalahan yang sudah dijabarkan, pihak bank ingin dapat memprediksi apakah *campaign* mereka akan sampai di calon nasabah yang memerlukan deposito berjangka ini. Sehingga, budget yang diberikan untuk mereka dapat digunakan secara efektif.\n",
    "\n",
    "Bank ini juga ingin mencari kriteria calon nasabah mereka, yang nantinya mereka akan memasukkan uang mereka dalam bentuk deposito berjangka di bank ini. Sehingga, *campaign marketing* mereka akan lebih terencana.\n",
    "\n",
    "#### **Analytic Approach:**\n",
    "\n",
    "Pertama, kita akan menganalisa kriteria nasabah seperti apa yang sudah membeli deposito berjangka ini dengan menggunakan data yang sudah dimiliki. Kemudian, kita akan membuat model klasifikasi untuk membantu tim *marketing* deposito berjangka ini untuk memprediksi apakah calon nasabah tersebut akan membeli  deposito berjangka atau tidak."
   ]
  },
  {
   "attachments": {},
   "cell_type": "markdown",
   "metadata": {},
   "source": [
    "#### **Metric Evaluation:**\n",
    "\n",
    "Type 1 error : False Positive\n",
    "\n",
    "Konsekuensi : biaya marketing, waktu, dan tenaga yang sia-sia\n",
    "\n",
    "Berdasarkan tiap konsekuensinya, maka yang akan berusaha kita lakukan adalah dengan membuat sebuah model yang nantinya dapat mengurangi biaya, waktu dan tenaga dalam melakukan marketing. Kami berharap model kami dapat memprediksi kelas positif dengan benar. Pihak bank merasa bahwa nasabah yang punya ciri-ciri akan membeli *term deposits* dan akhirnya tidak membeli produk ini akan menimbulkan kerugian dibanding dengan nasabah yang punya ciri-ciri tidak akan melakukan deposit dan akhirnya melakukan deposit. Dan *metrics* utama yang akan digunakan adalah *precision*."
   ]
  },
  {
   "attachments": {},
   "cell_type": "markdown",
   "metadata": {},
   "source": [
    "## Data Understanding"
   ]
  },
  {
   "attachments": {},
   "cell_type": "markdown",
   "metadata": {},
   "source": [
    "### Dataset Information\n",
    "\n",
    "Dataset ini menampiilkan informasi terkait dengan data diri customer, dan informasi terkait dengan *marketing campaign*. Dataset ini terdiri atas 11 kolom yaitu :\n",
    "\n",
    "- age : umur nasabah\n",
    "- job : pekerjaan nasabah\n",
    "- balance : saldo nasabah\n",
    "- housing : menunjukkan adanya cicilan rumah / KPR yang ditanggung oleh nasabah\n",
    "- loan : menunjukkan adanya peminjaman yang dilakukan oleh nasabah\n",
    "- contact : metode komunikasi saat melakukan *campaign*\n",
    "- month : bulan terakhir nasabah di-*contact* pada tahun tsb. \n",
    "- campaign : jumlah *contact* yang dilakukan kepada nasabah selama *campaign*\n",
    "- pdays : selisih jumlah hari nasabah di-*contact* dari *campaign* sebelumnya\n",
    "- poutcome : hasil dari *marketing campaign* sebelumnya\n",
    "- deposit : menunjukkan apakah nasabah melakukan deposit atau tidak"
   ]
  },
  {
   "cell_type": "code",
   "execution_count": 117,
   "metadata": {},
   "outputs": [],
   "source": [
    "## Import Basic Library\n",
    "import pandas as pd\n",
    "import numpy as np\n",
    "import seaborn as sns\n",
    "import matplotlib.pyplot as plt\n",
    "import warnings \n",
    "warnings.filterwarnings('ignore')\n",
    "\n",
    "# Set max columns\n",
    "pd.set_option('display.max_columns', None)"
   ]
  },
  {
   "cell_type": "code",
   "execution_count": 118,
   "metadata": {},
   "outputs": [
    {
     "data": {
      "text/html": [
       "<div>\n",
       "<style scoped>\n",
       "    .dataframe tbody tr th:only-of-type {\n",
       "        vertical-align: middle;\n",
       "    }\n",
       "\n",
       "    .dataframe tbody tr th {\n",
       "        vertical-align: top;\n",
       "    }\n",
       "\n",
       "    .dataframe thead th {\n",
       "        text-align: right;\n",
       "    }\n",
       "</style>\n",
       "<table border=\"1\" class=\"dataframe\">\n",
       "  <thead>\n",
       "    <tr style=\"text-align: right;\">\n",
       "      <th></th>\n",
       "      <th>age</th>\n",
       "      <th>job</th>\n",
       "      <th>balance</th>\n",
       "      <th>housing</th>\n",
       "      <th>loan</th>\n",
       "      <th>contact</th>\n",
       "      <th>month</th>\n",
       "      <th>campaign</th>\n",
       "      <th>pdays</th>\n",
       "      <th>poutcome</th>\n",
       "      <th>deposit</th>\n",
       "    </tr>\n",
       "  </thead>\n",
       "  <tbody>\n",
       "    <tr>\n",
       "      <th>0</th>\n",
       "      <td>55</td>\n",
       "      <td>admin.</td>\n",
       "      <td>1662</td>\n",
       "      <td>no</td>\n",
       "      <td>no</td>\n",
       "      <td>cellular</td>\n",
       "      <td>jun</td>\n",
       "      <td>2</td>\n",
       "      <td>-1</td>\n",
       "      <td>unknown</td>\n",
       "      <td>yes</td>\n",
       "    </tr>\n",
       "    <tr>\n",
       "      <th>1</th>\n",
       "      <td>39</td>\n",
       "      <td>self-employed</td>\n",
       "      <td>-3058</td>\n",
       "      <td>yes</td>\n",
       "      <td>yes</td>\n",
       "      <td>cellular</td>\n",
       "      <td>apr</td>\n",
       "      <td>3</td>\n",
       "      <td>-1</td>\n",
       "      <td>unknown</td>\n",
       "      <td>yes</td>\n",
       "    </tr>\n",
       "    <tr>\n",
       "      <th>2</th>\n",
       "      <td>51</td>\n",
       "      <td>admin.</td>\n",
       "      <td>3025</td>\n",
       "      <td>no</td>\n",
       "      <td>no</td>\n",
       "      <td>cellular</td>\n",
       "      <td>may</td>\n",
       "      <td>1</td>\n",
       "      <td>352</td>\n",
       "      <td>other</td>\n",
       "      <td>yes</td>\n",
       "    </tr>\n",
       "    <tr>\n",
       "      <th>3</th>\n",
       "      <td>38</td>\n",
       "      <td>services</td>\n",
       "      <td>-87</td>\n",
       "      <td>yes</td>\n",
       "      <td>no</td>\n",
       "      <td>cellular</td>\n",
       "      <td>may</td>\n",
       "      <td>1</td>\n",
       "      <td>-1</td>\n",
       "      <td>unknown</td>\n",
       "      <td>no</td>\n",
       "    </tr>\n",
       "    <tr>\n",
       "      <th>4</th>\n",
       "      <td>36</td>\n",
       "      <td>housemaid</td>\n",
       "      <td>205</td>\n",
       "      <td>yes</td>\n",
       "      <td>no</td>\n",
       "      <td>telephone</td>\n",
       "      <td>nov</td>\n",
       "      <td>4</td>\n",
       "      <td>-1</td>\n",
       "      <td>unknown</td>\n",
       "      <td>no</td>\n",
       "    </tr>\n",
       "    <tr>\n",
       "      <th>...</th>\n",
       "      <td>...</td>\n",
       "      <td>...</td>\n",
       "      <td>...</td>\n",
       "      <td>...</td>\n",
       "      <td>...</td>\n",
       "      <td>...</td>\n",
       "      <td>...</td>\n",
       "      <td>...</td>\n",
       "      <td>...</td>\n",
       "      <td>...</td>\n",
       "      <td>...</td>\n",
       "    </tr>\n",
       "    <tr>\n",
       "      <th>7808</th>\n",
       "      <td>62</td>\n",
       "      <td>housemaid</td>\n",
       "      <td>2</td>\n",
       "      <td>no</td>\n",
       "      <td>no</td>\n",
       "      <td>cellular</td>\n",
       "      <td>nov</td>\n",
       "      <td>1</td>\n",
       "      <td>-1</td>\n",
       "      <td>unknown</td>\n",
       "      <td>yes</td>\n",
       "    </tr>\n",
       "    <tr>\n",
       "      <th>7809</th>\n",
       "      <td>48</td>\n",
       "      <td>housemaid</td>\n",
       "      <td>5473</td>\n",
       "      <td>no</td>\n",
       "      <td>no</td>\n",
       "      <td>cellular</td>\n",
       "      <td>feb</td>\n",
       "      <td>2</td>\n",
       "      <td>184</td>\n",
       "      <td>success</td>\n",
       "      <td>yes</td>\n",
       "    </tr>\n",
       "    <tr>\n",
       "      <th>7810</th>\n",
       "      <td>36</td>\n",
       "      <td>unknown</td>\n",
       "      <td>179</td>\n",
       "      <td>no</td>\n",
       "      <td>no</td>\n",
       "      <td>cellular</td>\n",
       "      <td>aug</td>\n",
       "      <td>8</td>\n",
       "      <td>-1</td>\n",
       "      <td>unknown</td>\n",
       "      <td>no</td>\n",
       "    </tr>\n",
       "    <tr>\n",
       "      <th>7811</th>\n",
       "      <td>31</td>\n",
       "      <td>admin.</td>\n",
       "      <td>54</td>\n",
       "      <td>yes</td>\n",
       "      <td>no</td>\n",
       "      <td>cellular</td>\n",
       "      <td>nov</td>\n",
       "      <td>1</td>\n",
       "      <td>-1</td>\n",
       "      <td>unknown</td>\n",
       "      <td>no</td>\n",
       "    </tr>\n",
       "    <tr>\n",
       "      <th>7812</th>\n",
       "      <td>60</td>\n",
       "      <td>retired</td>\n",
       "      <td>1588</td>\n",
       "      <td>no</td>\n",
       "      <td>no</td>\n",
       "      <td>cellular</td>\n",
       "      <td>oct</td>\n",
       "      <td>1</td>\n",
       "      <td>-1</td>\n",
       "      <td>unknown</td>\n",
       "      <td>yes</td>\n",
       "    </tr>\n",
       "  </tbody>\n",
       "</table>\n",
       "<p>7813 rows × 11 columns</p>\n",
       "</div>"
      ],
      "text/plain": [
       "      age            job  balance housing loan    contact month  campaign  \\\n",
       "0     55   admin.         1662     no      no   cellular   jun   2          \n",
       "1     39   self-employed -3058     yes     yes  cellular   apr   3          \n",
       "2     51   admin.         3025     no      no   cellular   may   1          \n",
       "3     38   services      -87       yes     no   cellular   may   1          \n",
       "4     36   housemaid      205      yes     no   telephone  nov   4          \n",
       "...   ..         ...      ...      ...     ..         ...  ...  ..          \n",
       "7808  62   housemaid      2        no      no   cellular   nov   1          \n",
       "7809  48   housemaid      5473     no      no   cellular   feb   2          \n",
       "7810  36   unknown        179      no      no   cellular   aug   8          \n",
       "7811  31   admin.         54       yes     no   cellular   nov   1          \n",
       "7812  60   retired        1588     no      no   cellular   oct   1          \n",
       "\n",
       "      pdays poutcome deposit  \n",
       "0    -1      unknown  yes     \n",
       "1    -1      unknown  yes     \n",
       "2     352    other    yes     \n",
       "3    -1      unknown  no      \n",
       "4    -1      unknown  no      \n",
       "...  ..          ...  ..      \n",
       "7808 -1      unknown  yes     \n",
       "7809  184    success  yes     \n",
       "7810 -1      unknown  no      \n",
       "7811 -1      unknown  no      \n",
       "7812 -1      unknown  yes     \n",
       "\n",
       "[7813 rows x 11 columns]"
      ]
     },
     "execution_count": 118,
     "metadata": {},
     "output_type": "execute_result"
    }
   ],
   "source": [
    "bank = pd.read_csv('data_bank_marketing_campaign.csv')\n",
    "bank"
   ]
  },
  {
   "cell_type": "code",
   "execution_count": 119,
   "metadata": {},
   "outputs": [
    {
     "name": "stdout",
     "output_type": "stream",
     "text": [
      "<class 'pandas.core.frame.DataFrame'>\n",
      "RangeIndex: 7813 entries, 0 to 7812\n",
      "Data columns (total 11 columns):\n",
      " #   Column    Non-Null Count  Dtype \n",
      "---  ------    --------------  ----- \n",
      " 0   age       7813 non-null   int64 \n",
      " 1   job       7813 non-null   object\n",
      " 2   balance   7813 non-null   int64 \n",
      " 3   housing   7813 non-null   object\n",
      " 4   loan      7813 non-null   object\n",
      " 5   contact   7813 non-null   object\n",
      " 6   month     7813 non-null   object\n",
      " 7   campaign  7813 non-null   int64 \n",
      " 8   pdays     7813 non-null   int64 \n",
      " 9   poutcome  7813 non-null   object\n",
      " 10  deposit   7813 non-null   object\n",
      "dtypes: int64(4), object(7)\n",
      "memory usage: 671.6+ KB\n"
     ]
    }
   ],
   "source": [
    "bank.info()"
   ]
  },
  {
   "attachments": {},
   "cell_type": "markdown",
   "metadata": {},
   "source": [
    "Data ini terdiri atas 7813 baris dengan 11 kolom. Terdapat 7 kolom kategorikal dan 4 kolom numerikal."
   ]
  },
  {
   "attachments": {},
   "cell_type": "markdown",
   "metadata": {},
   "source": [
    "### Data Cleaning"
   ]
  },
  {
   "cell_type": "code",
   "execution_count": 120,
   "metadata": {
    "vscode": {
     "languageId": "perl"
    }
   },
   "outputs": [
    {
     "data": {
      "text/html": [
       "<div>\n",
       "<style scoped>\n",
       "    .dataframe tbody tr th:only-of-type {\n",
       "        vertical-align: middle;\n",
       "    }\n",
       "\n",
       "    .dataframe tbody tr th {\n",
       "        vertical-align: top;\n",
       "    }\n",
       "\n",
       "    .dataframe thead th {\n",
       "        text-align: right;\n",
       "    }\n",
       "</style>\n",
       "<table border=\"1\" class=\"dataframe\">\n",
       "  <thead>\n",
       "    <tr style=\"text-align: right;\">\n",
       "      <th></th>\n",
       "      <th>Column Name</th>\n",
       "      <th>Number of Unique</th>\n",
       "      <th>Unique Sample</th>\n",
       "    </tr>\n",
       "  </thead>\n",
       "  <tbody>\n",
       "    <tr>\n",
       "      <th>0</th>\n",
       "      <td>age</td>\n",
       "      <td>75</td>\n",
       "      <td>[55, 39, 51, 38, 36, 41, 37, 35, 57, 23, 33, 31, 53, 30, 46, 48, 25, 29, 28, 52, 49, 44, 42, 27, 47, 64, 26, 34, 56, 32, 58, 45, 54, 50, 79, 65, 40, 24, 60, 43, 61, 59, 62, 68, 82, 71, 73, 76, 69, 20, 72, 22, 67, 19, 70, 75, 63, 93, 77, 80, 66, 21, 87, 81, 92, 88, 84, 83, 78, 74, 18, 85, 95, 86, 90]</td>\n",
       "    </tr>\n",
       "    <tr>\n",
       "      <th>1</th>\n",
       "      <td>job</td>\n",
       "      <td>12</td>\n",
       "      <td>[admin., self-employed, services, housemaid, technician, management, student, blue-collar, entrepreneur, retired, unemployed, unknown]</td>\n",
       "    </tr>\n",
       "    <tr>\n",
       "      <th>2</th>\n",
       "      <td>balance</td>\n",
       "      <td>3153</td>\n",
       "      <td>[1662, -3058, 3025, -87, 205, -76, 4803, 911, 805, 0, 1234, 1107, 1170, 341, 4808, 88, 169, 863, 242, 2597, 4929, 277, 1438, 15, 3733, 204, 1684, 1025, 55, 19, 348, 785, 742, 511, 6651, 1612, 555, 54, 1185, 110, 950, 412, 228, 367, 3993, 2599, 3528, 32, 551, 3161, 533, 8725, 349, 514, 2688, -194, 154, 874, 2, 5953, 1269, -327, 235, 7, 2661, 1948, 20, 502, 193, 13658, 1716, 172, 1667, 157, 8, 951, 427, 241, 469, 2060, 7177, 655, -114, 588, -971, 4570, 250, 131, 93, 22, 15341, 356, 190, -124, 2228, -60, 376, 1567, 855, 4151, ...]</td>\n",
       "    </tr>\n",
       "    <tr>\n",
       "      <th>3</th>\n",
       "      <td>housing</td>\n",
       "      <td>2</td>\n",
       "      <td>[no, yes]</td>\n",
       "    </tr>\n",
       "    <tr>\n",
       "      <th>4</th>\n",
       "      <td>loan</td>\n",
       "      <td>2</td>\n",
       "      <td>[no, yes]</td>\n",
       "    </tr>\n",
       "    <tr>\n",
       "      <th>5</th>\n",
       "      <td>contact</td>\n",
       "      <td>3</td>\n",
       "      <td>[cellular, telephone, unknown]</td>\n",
       "    </tr>\n",
       "    <tr>\n",
       "      <th>6</th>\n",
       "      <td>month</td>\n",
       "      <td>12</td>\n",
       "      <td>[jun, apr, may, nov, jan, sep, feb, mar, aug, jul, oct, dec]</td>\n",
       "    </tr>\n",
       "    <tr>\n",
       "      <th>7</th>\n",
       "      <td>campaign</td>\n",
       "      <td>32</td>\n",
       "      <td>[2, 3, 1, 4, 5, 6, 7, 30, 8, 9, 11, 14, 10, 28, 63, 12, 24, 17, 15, 18, 19, 13, 21, 23, 22, 33, 16, 25, 26, 20, 29, 43]</td>\n",
       "    </tr>\n",
       "    <tr>\n",
       "      <th>8</th>\n",
       "      <td>pdays</td>\n",
       "      <td>422</td>\n",
       "      <td>[-1, 352, 21, 91, 186, 263, 96, 355, 294, 412, 89, 114, 276, 93, 175, 57, 323, 156, 86, 95, 271, 182, 289, 334, 269, 309, 144, 183, 417, 138, 254, 337, 171, 389, 87, 170, 165, 372, 247, 98, 196, 469, 272, 104, 63, 587, 336, 145, 130, 28, 202, 324, 147, 94, 328, 420, 179, 90, 81, 160, 298, 356, 357, 267, 430, 52, 181, 365, 237, 330, 103, 374, 75, 133, 321, 204, 782, 266, 197, 270, 318, 349, 187, 359, 490, 192, 227, 100, 168, 177, 251, 301, 350, 92, 184, 345, 290, 199, 333, 169, ...]</td>\n",
       "    </tr>\n",
       "    <tr>\n",
       "      <th>9</th>\n",
       "      <td>poutcome</td>\n",
       "      <td>4</td>\n",
       "      <td>[unknown, other, failure, success]</td>\n",
       "    </tr>\n",
       "    <tr>\n",
       "      <th>10</th>\n",
       "      <td>deposit</td>\n",
       "      <td>2</td>\n",
       "      <td>[yes, no]</td>\n",
       "    </tr>\n",
       "  </tbody>\n",
       "</table>\n",
       "</div>"
      ],
      "text/plain": [
       "   Column Name  Number of Unique  \\\n",
       "0   age         75                 \n",
       "1   job         12                 \n",
       "2   balance     3153               \n",
       "3   housing     2                  \n",
       "4   loan        2                  \n",
       "5   contact     3                  \n",
       "6   month       12                 \n",
       "7   campaign    32                 \n",
       "8   pdays       422                \n",
       "9   poutcome    4                  \n",
       "10  deposit     2                  \n",
       "\n",
       "                                                                                                                                                                                                                                                                                                                                                                                                                                                                                                                                            Unique Sample  \n",
       "0   [55, 39, 51, 38, 36, 41, 37, 35, 57, 23, 33, 31, 53, 30, 46, 48, 25, 29, 28, 52, 49, 44, 42, 27, 47, 64, 26, 34, 56, 32, 58, 45, 54, 50, 79, 65, 40, 24, 60, 43, 61, 59, 62, 68, 82, 71, 73, 76, 69, 20, 72, 22, 67, 19, 70, 75, 63, 93, 77, 80, 66, 21, 87, 81, 92, 88, 84, 83, 78, 74, 18, 85, 95, 86, 90]                                                                                                                                                                                                                                           \n",
       "1   [admin., self-employed, services, housemaid, technician, management, student, blue-collar, entrepreneur, retired, unemployed, unknown]                                                                                                                                                                                                                                                                                                                                                                                                                 \n",
       "2   [1662, -3058, 3025, -87, 205, -76, 4803, 911, 805, 0, 1234, 1107, 1170, 341, 4808, 88, 169, 863, 242, 2597, 4929, 277, 1438, 15, 3733, 204, 1684, 1025, 55, 19, 348, 785, 742, 511, 6651, 1612, 555, 54, 1185, 110, 950, 412, 228, 367, 3993, 2599, 3528, 32, 551, 3161, 533, 8725, 349, 514, 2688, -194, 154, 874, 2, 5953, 1269, -327, 235, 7, 2661, 1948, 20, 502, 193, 13658, 1716, 172, 1667, 157, 8, 951, 427, 241, 469, 2060, 7177, 655, -114, 588, -971, 4570, 250, 131, 93, 22, 15341, 356, 190, -124, 2228, -60, 376, 1567, 855, 4151, ...]  \n",
       "3   [no, yes]                                                                                                                                                                                                                                                                                                                                                                                                                                                                                                                                              \n",
       "4   [no, yes]                                                                                                                                                                                                                                                                                                                                                                                                                                                                                                                                              \n",
       "5   [cellular, telephone, unknown]                                                                                                                                                                                                                                                                                                                                                                                                                                                                                                                         \n",
       "6   [jun, apr, may, nov, jan, sep, feb, mar, aug, jul, oct, dec]                                                                                                                                                                                                                                                                                                                                                                                                                                                                                           \n",
       "7   [2, 3, 1, 4, 5, 6, 7, 30, 8, 9, 11, 14, 10, 28, 63, 12, 24, 17, 15, 18, 19, 13, 21, 23, 22, 33, 16, 25, 26, 20, 29, 43]                                                                                                                                                                                                                                                                                                                                                                                                                                \n",
       "8   [-1, 352, 21, 91, 186, 263, 96, 355, 294, 412, 89, 114, 276, 93, 175, 57, 323, 156, 86, 95, 271, 182, 289, 334, 269, 309, 144, 183, 417, 138, 254, 337, 171, 389, 87, 170, 165, 372, 247, 98, 196, 469, 272, 104, 63, 587, 336, 145, 130, 28, 202, 324, 147, 94, 328, 420, 179, 90, 81, 160, 298, 356, 357, 267, 430, 52, 181, 365, 237, 330, 103, 374, 75, 133, 321, 204, 782, 266, 197, 270, 318, 349, 187, 359, 490, 192, 227, 100, 168, 177, 251, 301, 350, 92, 184, 345, 290, 199, 333, 169, ...]                                                 \n",
       "9   [unknown, other, failure, success]                                                                                                                                                                                                                                                                                                                                                                                                                                                                                                                     \n",
       "10  [yes, no]                                                                                                                                                                                                                                                                                                                                                                                                                                                                                                                                              "
      ]
     },
     "execution_count": 120,
     "metadata": {},
     "output_type": "execute_result"
    }
   ],
   "source": [
    "# Menampilkan data unik di tiap kolom\n",
    "pd.set_option('display.max_colwidth', -1)\n",
    "\n",
    "listItem = []\n",
    "for col in bank.columns :\n",
    "    listItem.append( [col, bank[col].nunique(), bank[col].unique()])\n",
    "\n",
    "tabeldesc = pd.DataFrame(columns=['Column Name', 'Number of Unique', 'Unique Sample'],\n",
    "                     data=listItem)\n",
    "tabeldesc"
   ]
  },
  {
   "cell_type": "code",
   "execution_count": 121,
   "metadata": {
    "vscode": {
     "languageId": "perl"
    }
   },
   "outputs": [
    {
     "data": {
      "text/plain": [
       "array(['admin.', 'self-employed', 'services', 'housemaid', 'technician',\n",
       "       'management', 'student', 'blue-collar', 'entrepreneur', 'retired',\n",
       "       'unemployed', 'unknown'], dtype=object)"
      ]
     },
     "execution_count": 121,
     "metadata": {},
     "output_type": "execute_result"
    }
   ],
   "source": [
    "bank['job'].unique()"
   ]
  },
  {
   "cell_type": "code",
   "execution_count": 122,
   "metadata": {
    "vscode": {
     "languageId": "perl"
    }
   },
   "outputs": [
    {
     "name": "stdout",
     "output_type": "stream",
     "text": [
      "management       1792\n",
      "blue-collar      1346\n",
      "technician       1291\n",
      "admin.           936 \n",
      "services         658 \n",
      "retired          540 \n",
      "self-employed    280 \n",
      "unemployed       249 \n",
      "student          247 \n",
      "entrepreneur     236 \n",
      "housemaid        184 \n",
      "unknown          54  \n",
      "Name: job, dtype: int64\n",
      "cellular     5628\n",
      "unknown      1639\n",
      "telephone    546 \n",
      "Name: contact, dtype: int64\n",
      "unknown    5819\n",
      "failure    848 \n",
      "success    761 \n",
      "other      385 \n",
      "Name: poutcome, dtype: int64\n"
     ]
    }
   ],
   "source": [
    "print(bank['job'].value_counts())\n",
    "print(bank['contact'].value_counts())\n",
    "print(bank['poutcome'].value_counts())"
   ]
  },
  {
   "attachments": {},
   "cell_type": "markdown",
   "metadata": {},
   "source": [
    "Dapat dilihat bahwa tidak ada *null value* pada data ini. Namun jika melihat pada kolom `Unique Sample`, terdapat beberapa kolom yang masih mengandung 'unknown' yaitu kolom `job`, dan `poutcome` yang dianggap sebagai *missing values*. Nilai *unknown* pada kolom `job` akan diisi dengan nilai modus dari setiap kolom tersebut. Dan untuk kolom `poutcome`, baris yang mengandung 'unknown' akan diisi dengan other. Pada kolom `pdays` yang merupakan selisih hari antar *campaign* setiap nasabah yang memiliki nilai -1 (minus). Dengan info *database* yang digunakan kolom `pdays` seharusnya memiliki nilai positif. Jadi nilai -1 pada kolom ini akan diganti dengan 0. Dengan asumsi nilai kolom -1 pada `pdays` menunjukkan bahwa setelah dilakukan campaign kepada nasabah, nasabah tersebut langsung memutuskan apakah ia akan membeli produk ini atau tidak."
   ]
  },
  {
   "cell_type": "code",
   "execution_count": 123,
   "metadata": {
    "vscode": {
     "languageId": "perl"
    }
   },
   "outputs": [
    {
     "name": "stdout",
     "output_type": "stream",
     "text": [
      "0    management\n",
      "Name: job, dtype: object\n"
     ]
    }
   ],
   "source": [
    "# Mengecek nilai job 'unknown' dengan nilai modusnya\n",
    "print(bank['job'].mode())\n",
    "bank['job'] = bank['job'].replace('unknown', bank['job'].mode()[0])"
   ]
  },
  {
   "cell_type": "code",
   "execution_count": 124,
   "metadata": {},
   "outputs": [
    {
     "data": {
      "text/plain": [
       "management       1846\n",
       "blue-collar      1346\n",
       "technician       1291\n",
       "admin.           936 \n",
       "services         658 \n",
       "retired          540 \n",
       "self-employed    280 \n",
       "unemployed       249 \n",
       "student          247 \n",
       "entrepreneur     236 \n",
       "housemaid        184 \n",
       "Name: job, dtype: int64"
      ]
     },
     "execution_count": 124,
     "metadata": {},
     "output_type": "execute_result"
    }
   ],
   "source": [
    "# Menghitung kembali jumlah values pada kolom 'job'\n",
    "bank['job'].value_counts()"
   ]
  },
  {
   "cell_type": "code",
   "execution_count": 125,
   "metadata": {},
   "outputs": [
    {
     "name": "stdout",
     "output_type": "stream",
     "text": [
      "0    cellular\n",
      "Name: contact, dtype: object\n"
     ]
    }
   ],
   "source": [
    "# Mengganti nilai 'unknown' pada kolom contact dengan nilai modus\n",
    "print(bank['contact'].mode())\n",
    "bank['contact'] = bank['contact'].replace('unknown', bank['contact'].mode()[0])"
   ]
  },
  {
   "cell_type": "code",
   "execution_count": 126,
   "metadata": {},
   "outputs": [
    {
     "data": {
      "text/plain": [
       "cellular     7267\n",
       "telephone    546 \n",
       "Name: contact, dtype: int64"
      ]
     },
     "execution_count": 126,
     "metadata": {},
     "output_type": "execute_result"
    }
   ],
   "source": [
    "# Menghitung kembali jumlah values pada kolom 'contact'\n",
    "bank['contact'].value_counts()"
   ]
  },
  {
   "cell_type": "code",
   "execution_count": 127,
   "metadata": {},
   "outputs": [],
   "source": [
    "# Mengganti nilai 'unknown' pada kolom contact dengan 'other'\n",
    "bank['poutcome'] = bank['poutcome'].replace('unknown', 'other')"
   ]
  },
  {
   "cell_type": "code",
   "execution_count": 128,
   "metadata": {},
   "outputs": [
    {
     "data": {
      "text/plain": [
       "other      6204\n",
       "failure    848 \n",
       "success    761 \n",
       "Name: poutcome, dtype: int64"
      ]
     },
     "execution_count": 128,
     "metadata": {},
     "output_type": "execute_result"
    }
   ],
   "source": [
    "# Menghitung kembali jumlah values pada kolom 'contact'\n",
    "bank['poutcome'].value_counts()"
   ]
  },
  {
   "cell_type": "code",
   "execution_count": 129,
   "metadata": {},
   "outputs": [],
   "source": [
    "# Mengganti nilai -1 pada kolom 'pdays' menjadi 0\n",
    "bank['pdays'] = bank['pdays'].replace(-1, 0)"
   ]
  },
  {
   "cell_type": "code",
   "execution_count": 130,
   "metadata": {},
   "outputs": [
    {
     "data": {
      "text/plain": [
       "0      5817\n",
       "92     80  \n",
       "91     62  \n",
       "182    61  \n",
       "181    56  \n",
       "       ..  \n",
       "375    1   \n",
       "320    1   \n",
       "373    1   \n",
       "24     1   \n",
       "155    1   \n",
       "Name: pdays, Length: 422, dtype: int64"
      ]
     },
     "execution_count": 130,
     "metadata": {},
     "output_type": "execute_result"
    }
   ],
   "source": [
    "# Menghitung kembali jumlah values pada kolom 'pdays'\n",
    "bank['pdays'].value_counts()"
   ]
  },
  {
   "cell_type": "code",
   "execution_count": 131,
   "metadata": {},
   "outputs": [
    {
     "data": {
      "text/html": [
       "<div>\n",
       "<style scoped>\n",
       "    .dataframe tbody tr th:only-of-type {\n",
       "        vertical-align: middle;\n",
       "    }\n",
       "\n",
       "    .dataframe tbody tr th {\n",
       "        vertical-align: top;\n",
       "    }\n",
       "\n",
       "    .dataframe thead th {\n",
       "        text-align: right;\n",
       "    }\n",
       "</style>\n",
       "<table border=\"1\" class=\"dataframe\">\n",
       "  <thead>\n",
       "    <tr style=\"text-align: right;\">\n",
       "      <th></th>\n",
       "      <th>Column Name</th>\n",
       "      <th>Number of Unique</th>\n",
       "      <th>Unique Sample</th>\n",
       "    </tr>\n",
       "  </thead>\n",
       "  <tbody>\n",
       "    <tr>\n",
       "      <th>0</th>\n",
       "      <td>age</td>\n",
       "      <td>75</td>\n",
       "      <td>[55, 39, 51, 38, 36, 41, 37, 35, 57, 23, 33, 31, 53, 30, 46, 48, 25, 29, 28, 52, 49, 44, 42, 27, 47, 64, 26, 34, 56, 32, 58, 45, 54, 50, 79, 65, 40, 24, 60, 43, 61, 59, 62, 68, 82, 71, 73, 76, 69, 20, 72, 22, 67, 19, 70, 75, 63, 93, 77, 80, 66, 21, 87, 81, 92, 88, 84, 83, 78, 74, 18, 85, 95, 86, 90]</td>\n",
       "    </tr>\n",
       "    <tr>\n",
       "      <th>1</th>\n",
       "      <td>job</td>\n",
       "      <td>11</td>\n",
       "      <td>[admin., self-employed, services, housemaid, technician, management, student, blue-collar, entrepreneur, retired, unemployed]</td>\n",
       "    </tr>\n",
       "    <tr>\n",
       "      <th>2</th>\n",
       "      <td>balance</td>\n",
       "      <td>3153</td>\n",
       "      <td>[1662, -3058, 3025, -87, 205, -76, 4803, 911, 805, 0, 1234, 1107, 1170, 341, 4808, 88, 169, 863, 242, 2597, 4929, 277, 1438, 15, 3733, 204, 1684, 1025, 55, 19, 348, 785, 742, 511, 6651, 1612, 555, 54, 1185, 110, 950, 412, 228, 367, 3993, 2599, 3528, 32, 551, 3161, 533, 8725, 349, 514, 2688, -194, 154, 874, 2, 5953, 1269, -327, 235, 7, 2661, 1948, 20, 502, 193, 13658, 1716, 172, 1667, 157, 8, 951, 427, 241, 469, 2060, 7177, 655, -114, 588, -971, 4570, 250, 131, 93, 22, 15341, 356, 190, -124, 2228, -60, 376, 1567, 855, 4151, ...]</td>\n",
       "    </tr>\n",
       "    <tr>\n",
       "      <th>3</th>\n",
       "      <td>housing</td>\n",
       "      <td>2</td>\n",
       "      <td>[no, yes]</td>\n",
       "    </tr>\n",
       "    <tr>\n",
       "      <th>4</th>\n",
       "      <td>loan</td>\n",
       "      <td>2</td>\n",
       "      <td>[no, yes]</td>\n",
       "    </tr>\n",
       "    <tr>\n",
       "      <th>5</th>\n",
       "      <td>contact</td>\n",
       "      <td>2</td>\n",
       "      <td>[cellular, telephone]</td>\n",
       "    </tr>\n",
       "    <tr>\n",
       "      <th>6</th>\n",
       "      <td>month</td>\n",
       "      <td>12</td>\n",
       "      <td>[jun, apr, may, nov, jan, sep, feb, mar, aug, jul, oct, dec]</td>\n",
       "    </tr>\n",
       "    <tr>\n",
       "      <th>7</th>\n",
       "      <td>campaign</td>\n",
       "      <td>32</td>\n",
       "      <td>[2, 3, 1, 4, 5, 6, 7, 30, 8, 9, 11, 14, 10, 28, 63, 12, 24, 17, 15, 18, 19, 13, 21, 23, 22, 33, 16, 25, 26, 20, 29, 43]</td>\n",
       "    </tr>\n",
       "    <tr>\n",
       "      <th>8</th>\n",
       "      <td>pdays</td>\n",
       "      <td>422</td>\n",
       "      <td>[0, 352, 21, 91, 186, 263, 96, 355, 294, 412, 89, 114, 276, 93, 175, 57, 323, 156, 86, 95, 271, 182, 289, 334, 269, 309, 144, 183, 417, 138, 254, 337, 171, 389, 87, 170, 165, 372, 247, 98, 196, 469, 272, 104, 63, 587, 336, 145, 130, 28, 202, 324, 147, 94, 328, 420, 179, 90, 81, 160, 298, 356, 357, 267, 430, 52, 181, 365, 237, 330, 103, 374, 75, 133, 321, 204, 782, 266, 197, 270, 318, 349, 187, 359, 490, 192, 227, 100, 168, 177, 251, 301, 350, 92, 184, 345, 290, 199, 333, 169, ...]</td>\n",
       "    </tr>\n",
       "    <tr>\n",
       "      <th>9</th>\n",
       "      <td>poutcome</td>\n",
       "      <td>3</td>\n",
       "      <td>[other, failure, success]</td>\n",
       "    </tr>\n",
       "    <tr>\n",
       "      <th>10</th>\n",
       "      <td>deposit</td>\n",
       "      <td>2</td>\n",
       "      <td>[yes, no]</td>\n",
       "    </tr>\n",
       "  </tbody>\n",
       "</table>\n",
       "</div>"
      ],
      "text/plain": [
       "   Column Name  Number of Unique  \\\n",
       "0   age         75                 \n",
       "1   job         11                 \n",
       "2   balance     3153               \n",
       "3   housing     2                  \n",
       "4   loan        2                  \n",
       "5   contact     2                  \n",
       "6   month       12                 \n",
       "7   campaign    32                 \n",
       "8   pdays       422                \n",
       "9   poutcome    3                  \n",
       "10  deposit     2                  \n",
       "\n",
       "                                                                                                                                                                                                                                                                                                                                                                                                                                                                                                                                            Unique Sample  \n",
       "0   [55, 39, 51, 38, 36, 41, 37, 35, 57, 23, 33, 31, 53, 30, 46, 48, 25, 29, 28, 52, 49, 44, 42, 27, 47, 64, 26, 34, 56, 32, 58, 45, 54, 50, 79, 65, 40, 24, 60, 43, 61, 59, 62, 68, 82, 71, 73, 76, 69, 20, 72, 22, 67, 19, 70, 75, 63, 93, 77, 80, 66, 21, 87, 81, 92, 88, 84, 83, 78, 74, 18, 85, 95, 86, 90]                                                                                                                                                                                                                                           \n",
       "1   [admin., self-employed, services, housemaid, technician, management, student, blue-collar, entrepreneur, retired, unemployed]                                                                                                                                                                                                                                                                                                                                                                                                                          \n",
       "2   [1662, -3058, 3025, -87, 205, -76, 4803, 911, 805, 0, 1234, 1107, 1170, 341, 4808, 88, 169, 863, 242, 2597, 4929, 277, 1438, 15, 3733, 204, 1684, 1025, 55, 19, 348, 785, 742, 511, 6651, 1612, 555, 54, 1185, 110, 950, 412, 228, 367, 3993, 2599, 3528, 32, 551, 3161, 533, 8725, 349, 514, 2688, -194, 154, 874, 2, 5953, 1269, -327, 235, 7, 2661, 1948, 20, 502, 193, 13658, 1716, 172, 1667, 157, 8, 951, 427, 241, 469, 2060, 7177, 655, -114, 588, -971, 4570, 250, 131, 93, 22, 15341, 356, 190, -124, 2228, -60, 376, 1567, 855, 4151, ...]  \n",
       "3   [no, yes]                                                                                                                                                                                                                                                                                                                                                                                                                                                                                                                                              \n",
       "4   [no, yes]                                                                                                                                                                                                                                                                                                                                                                                                                                                                                                                                              \n",
       "5   [cellular, telephone]                                                                                                                                                                                                                                                                                                                                                                                                                                                                                                                                  \n",
       "6   [jun, apr, may, nov, jan, sep, feb, mar, aug, jul, oct, dec]                                                                                                                                                                                                                                                                                                                                                                                                                                                                                           \n",
       "7   [2, 3, 1, 4, 5, 6, 7, 30, 8, 9, 11, 14, 10, 28, 63, 12, 24, 17, 15, 18, 19, 13, 21, 23, 22, 33, 16, 25, 26, 20, 29, 43]                                                                                                                                                                                                                                                                                                                                                                                                                                \n",
       "8   [0, 352, 21, 91, 186, 263, 96, 355, 294, 412, 89, 114, 276, 93, 175, 57, 323, 156, 86, 95, 271, 182, 289, 334, 269, 309, 144, 183, 417, 138, 254, 337, 171, 389, 87, 170, 165, 372, 247, 98, 196, 469, 272, 104, 63, 587, 336, 145, 130, 28, 202, 324, 147, 94, 328, 420, 179, 90, 81, 160, 298, 356, 357, 267, 430, 52, 181, 365, 237, 330, 103, 374, 75, 133, 321, 204, 782, 266, 197, 270, 318, 349, 187, 359, 490, 192, 227, 100, 168, 177, 251, 301, 350, 92, 184, 345, 290, 199, 333, 169, ...]                                                  \n",
       "9   [other, failure, success]                                                                                                                                                                                                                                                                                                                                                                                                                                                                                                                              \n",
       "10  [yes, no]                                                                                                                                                                                                                                                                                                                                                                                                                                                                                                                                              "
      ]
     },
     "execution_count": 131,
     "metadata": {},
     "output_type": "execute_result"
    }
   ],
   "source": [
    "# Update data unik di setiap kolom\n",
    "pd.set_option('display.max_colwidth', -1)\n",
    "\n",
    "listItem = []\n",
    "for col in bank.columns :\n",
    "    listItem.append( [col, bank[col].nunique(), bank[col].unique()])\n",
    "\n",
    "tabeldescUpdate = pd.DataFrame(columns=['Column Name', 'Number of Unique', 'Unique Sample'],\n",
    "                     data=listItem)\n",
    "tabeldescUpdate"
   ]
  },
  {
   "attachments": {},
   "cell_type": "markdown",
   "metadata": {},
   "source": [
    "Sebelum diproses lebih lanjut, perlu dilihat juga persebaran data dari setiap kolom numerikal."
   ]
  },
  {
   "cell_type": "code",
   "execution_count": 132,
   "metadata": {},
   "outputs": [
    {
     "data": {
      "image/png": "[encoded data removed]",
      "text/plain": [
       "<Figure size 640x480 with 1 Axes>"
      ]
     },
     "metadata": {},
     "output_type": "display_data"
    },
    {
     "data": {
      "image/png": "[encoded data removed]",
      "text/plain": [
       "<Figure size 640x480 with 1 Axes>"
      ]
     },
     "metadata": {},
     "output_type": "display_data"
    },
    {
     "data": {
      "image/png": "[encoded data removed]",
      "text/plain": [
       "<Figure size 640x480 with 1 Axes>"
      ]
     },
     "metadata": {},
     "output_type": "display_data"
    }
   ],
   "source": [
    "# Plot histogram for 'tenure'\n",
    "plt.hist(bank['age'], bins=10)\n",
    "plt.title('Histogram of Age')\n",
    "plt.xlabel('Age')\n",
    "plt.ylabel('Count')\n",
    "plt.show()\n",
    "\n",
    "# Plot histogram for 'monthly charges'\n",
    "plt.hist(bank['balance'], bins=10)\n",
    "plt.title('Histogram of Balance')\n",
    "plt.xlabel('Balance')\n",
    "plt.ylabel('Count')\n",
    "plt.show()\n",
    "\n",
    "# Plot histogram for 'monthly charges'\n",
    "plt.hist(bank['pdays'], bins=10)\n",
    "plt.title('Histogram of Previous Days')\n",
    "plt.xlabel('Pdays')\n",
    "plt.ylabel('Count')\n",
    "plt.show()"
   ]
  },
  {
   "attachments": {},
   "cell_type": "markdown",
   "metadata": {},
   "source": [
    "Dengan melakukan plotting dengan menggunakan histogram, maka dapat dilihat bahwa data yang ada pada kolom `age`, `balance`, dan `pdays` memiliki distribusi yang tidak normal."
   ]
  },
  {
   "attachments": {},
   "cell_type": "markdown",
   "metadata": {},
   "source": [
    "## Data Preparation"
   ]
  },
  {
   "cell_type": "code",
   "execution_count": 133,
   "metadata": {},
   "outputs": [],
   "source": [
    "## Import Library untuk Pre-Modeling\n",
    "from sklearn.model_selection import train_test_split, cross_val_score, StratifiedKFold, GridSearchCV, RandomizedSearchCV\n",
    "from sklearn.impute import SimpleImputer\n",
    "from sklearn.preprocessing import OneHotEncoder, MinMaxScaler\n",
    "from sklearn.compose import ColumnTransformer\n",
    "import category_encoders as ce\n",
    "from sklearn.pipeline import Pipeline"
   ]
  },
  {
   "attachments": {},
   "cell_type": "markdown",
   "metadata": {},
   "source": [
    "Terdapat 7 kolom pada dataset ini yang bersifat katergorikal yaitu kolom `job`, `housing`, `loan`, `contact`, `month`, dan `poutcome`. Saya akan melakukan *encoding* untuk kolom-kolom kategorikal ini. \n",
    "\n",
    "1. ***One Hot Encoding (OHE)*** : proses encoding ini akan diaplikasikan untuk kolom `housing`, `loan`, `contact`, dan `poutcome`, karena kolom ini hanya memiliki 2-3 *unique values*. Dimana kolom `housing` dan `loan` adalah kolom yang menunjukkan apakah nasabah mempunyai rumah atau pinjaman. Kolom contact adalah kolom yang berisi metode *campaign* yang dilakukan oleh pihak bank. dan kolom poutcome adalah kolom yang menunjukkan apa hasil dari *campaign* sebelumnya.\n",
    "\n",
    "2. ***Binary Encoding*** : proses encoding ini akan diaplikasikan untuk kolom `job`, karena kolom ini memiliki 11 unique values yang merupakan jenis pekerjaan dari setiap nasabah.\n",
    "\n",
    "3. ***Ordinal Encoding*** : proses encoding ini akan diaplikasikan untuk kolom `month`, karena kolom month ini adalah kolom yang menunjukkan kapan terakhir nasabah dicontact untuk keperluan *campaign*"
   ]
  },
  {
   "cell_type": "code",
   "execution_count": 134,
   "metadata": {},
   "outputs": [],
   "source": [
    "ordinal_map = [\n",
    "    {'col' : 'month',\n",
    "    'mapping': {None : 0, 'jan' : 1, 'feb' :2, 'mar' :3, 'apr' :4, 'may' :5, 'jun' :6,\n",
    "               'jul' :7, 'aug' :8, 'sep' :9, 'oct' :10, 'nov' :11, 'dec' :12}}\n",
    "]"
   ]
  },
  {
   "cell_type": "code",
   "execution_count": 135,
   "metadata": {},
   "outputs": [],
   "source": [
    "transformer = ColumnTransformer([('scale', MinMaxScaler(), ['age', 'balance', 'pdays']),\n",
    "                                 ('one hot encoder',OneHotEncoder(drop = 'first'),['housing', 'loan', 'contact', 'poutcome']),\n",
    "                                 ('binary encoder',ce.BinaryEncoder(), ['job']),\n",
    "                                 ('ordinal_ecoding', ce.OrdinalEncoder(mapping=ordinal_map), ['month'])\n",
    "                                ], remainder = 'passthrough')"
   ]
  },
  {
   "cell_type": "code",
   "execution_count": 136,
   "metadata": {},
   "outputs": [
    {
     "data": {
      "text/html": [
       "<div>\n",
       "<style scoped>\n",
       "    .dataframe tbody tr th:only-of-type {\n",
       "        vertical-align: middle;\n",
       "    }\n",
       "\n",
       "    .dataframe tbody tr th {\n",
       "        vertical-align: top;\n",
       "    }\n",
       "\n",
       "    .dataframe thead th {\n",
       "        text-align: right;\n",
       "    }\n",
       "</style>\n",
       "<table border=\"1\" class=\"dataframe\">\n",
       "  <thead>\n",
       "    <tr style=\"text-align: right;\">\n",
       "      <th></th>\n",
       "      <th>age</th>\n",
       "      <th>job</th>\n",
       "      <th>balance</th>\n",
       "      <th>housing</th>\n",
       "      <th>loan</th>\n",
       "      <th>contact</th>\n",
       "      <th>month</th>\n",
       "      <th>campaign</th>\n",
       "      <th>pdays</th>\n",
       "      <th>poutcome</th>\n",
       "      <th>deposit</th>\n",
       "    </tr>\n",
       "  </thead>\n",
       "  <tbody>\n",
       "    <tr>\n",
       "      <th>0</th>\n",
       "      <td>55</td>\n",
       "      <td>admin.</td>\n",
       "      <td>1662</td>\n",
       "      <td>no</td>\n",
       "      <td>no</td>\n",
       "      <td>cellular</td>\n",
       "      <td>jun</td>\n",
       "      <td>2</td>\n",
       "      <td>0</td>\n",
       "      <td>other</td>\n",
       "      <td>1</td>\n",
       "    </tr>\n",
       "    <tr>\n",
       "      <th>1</th>\n",
       "      <td>39</td>\n",
       "      <td>self-employed</td>\n",
       "      <td>-3058</td>\n",
       "      <td>yes</td>\n",
       "      <td>yes</td>\n",
       "      <td>cellular</td>\n",
       "      <td>apr</td>\n",
       "      <td>3</td>\n",
       "      <td>0</td>\n",
       "      <td>other</td>\n",
       "      <td>1</td>\n",
       "    </tr>\n",
       "    <tr>\n",
       "      <th>2</th>\n",
       "      <td>51</td>\n",
       "      <td>admin.</td>\n",
       "      <td>3025</td>\n",
       "      <td>no</td>\n",
       "      <td>no</td>\n",
       "      <td>cellular</td>\n",
       "      <td>may</td>\n",
       "      <td>1</td>\n",
       "      <td>352</td>\n",
       "      <td>other</td>\n",
       "      <td>1</td>\n",
       "    </tr>\n",
       "    <tr>\n",
       "      <th>3</th>\n",
       "      <td>38</td>\n",
       "      <td>services</td>\n",
       "      <td>-87</td>\n",
       "      <td>yes</td>\n",
       "      <td>no</td>\n",
       "      <td>cellular</td>\n",
       "      <td>may</td>\n",
       "      <td>1</td>\n",
       "      <td>0</td>\n",
       "      <td>other</td>\n",
       "      <td>0</td>\n",
       "    </tr>\n",
       "    <tr>\n",
       "      <th>4</th>\n",
       "      <td>36</td>\n",
       "      <td>housemaid</td>\n",
       "      <td>205</td>\n",
       "      <td>yes</td>\n",
       "      <td>no</td>\n",
       "      <td>telephone</td>\n",
       "      <td>nov</td>\n",
       "      <td>4</td>\n",
       "      <td>0</td>\n",
       "      <td>other</td>\n",
       "      <td>0</td>\n",
       "    </tr>\n",
       "    <tr>\n",
       "      <th>...</th>\n",
       "      <td>...</td>\n",
       "      <td>...</td>\n",
       "      <td>...</td>\n",
       "      <td>...</td>\n",
       "      <td>...</td>\n",
       "      <td>...</td>\n",
       "      <td>...</td>\n",
       "      <td>...</td>\n",
       "      <td>...</td>\n",
       "      <td>...</td>\n",
       "      <td>...</td>\n",
       "    </tr>\n",
       "    <tr>\n",
       "      <th>7808</th>\n",
       "      <td>62</td>\n",
       "      <td>housemaid</td>\n",
       "      <td>2</td>\n",
       "      <td>no</td>\n",
       "      <td>no</td>\n",
       "      <td>cellular</td>\n",
       "      <td>nov</td>\n",
       "      <td>1</td>\n",
       "      <td>0</td>\n",
       "      <td>other</td>\n",
       "      <td>1</td>\n",
       "    </tr>\n",
       "    <tr>\n",
       "      <th>7809</th>\n",
       "      <td>48</td>\n",
       "      <td>housemaid</td>\n",
       "      <td>5473</td>\n",
       "      <td>no</td>\n",
       "      <td>no</td>\n",
       "      <td>cellular</td>\n",
       "      <td>feb</td>\n",
       "      <td>2</td>\n",
       "      <td>184</td>\n",
       "      <td>success</td>\n",
       "      <td>1</td>\n",
       "    </tr>\n",
       "    <tr>\n",
       "      <th>7810</th>\n",
       "      <td>36</td>\n",
       "      <td>management</td>\n",
       "      <td>179</td>\n",
       "      <td>no</td>\n",
       "      <td>no</td>\n",
       "      <td>cellular</td>\n",
       "      <td>aug</td>\n",
       "      <td>8</td>\n",
       "      <td>0</td>\n",
       "      <td>other</td>\n",
       "      <td>0</td>\n",
       "    </tr>\n",
       "    <tr>\n",
       "      <th>7811</th>\n",
       "      <td>31</td>\n",
       "      <td>admin.</td>\n",
       "      <td>54</td>\n",
       "      <td>yes</td>\n",
       "      <td>no</td>\n",
       "      <td>cellular</td>\n",
       "      <td>nov</td>\n",
       "      <td>1</td>\n",
       "      <td>0</td>\n",
       "      <td>other</td>\n",
       "      <td>0</td>\n",
       "    </tr>\n",
       "    <tr>\n",
       "      <th>7812</th>\n",
       "      <td>60</td>\n",
       "      <td>retired</td>\n",
       "      <td>1588</td>\n",
       "      <td>no</td>\n",
       "      <td>no</td>\n",
       "      <td>cellular</td>\n",
       "      <td>oct</td>\n",
       "      <td>1</td>\n",
       "      <td>0</td>\n",
       "      <td>other</td>\n",
       "      <td>1</td>\n",
       "    </tr>\n",
       "  </tbody>\n",
       "</table>\n",
       "<p>7813 rows × 11 columns</p>\n",
       "</div>"
      ],
      "text/plain": [
       "      age            job  balance housing loan    contact month  campaign  \\\n",
       "0     55   admin.         1662     no      no   cellular   jun   2          \n",
       "1     39   self-employed -3058     yes     yes  cellular   apr   3          \n",
       "2     51   admin.         3025     no      no   cellular   may   1          \n",
       "3     38   services      -87       yes     no   cellular   may   1          \n",
       "4     36   housemaid      205      yes     no   telephone  nov   4          \n",
       "...   ..         ...      ...      ...     ..         ...  ...  ..          \n",
       "7808  62   housemaid      2        no      no   cellular   nov   1          \n",
       "7809  48   housemaid      5473     no      no   cellular   feb   2          \n",
       "7810  36   management     179      no      no   cellular   aug   8          \n",
       "7811  31   admin.         54       yes     no   cellular   nov   1          \n",
       "7812  60   retired        1588     no      no   cellular   oct   1          \n",
       "\n",
       "      pdays poutcome  deposit  \n",
       "0     0      other    1        \n",
       "1     0      other    1        \n",
       "2     352    other    1        \n",
       "3     0      other    0        \n",
       "4     0      other    0        \n",
       "...  ..        ...   ..        \n",
       "7808  0      other    1        \n",
       "7809  184    success  1        \n",
       "7810  0      other    0        \n",
       "7811  0      other    0        \n",
       "7812  0      other    1        \n",
       "\n",
       "[7813 rows x 11 columns]"
      ]
     },
     "execution_count": 136,
     "metadata": {},
     "output_type": "execute_result"
    }
   ],
   "source": [
    "# Menggunakan np.where untuk mengubah kolom 'deposit' menjadi 1 dan 0\n",
    "bank['deposit'] = np.where(bank['deposit'] == 'yes', 1, 0)\n",
    "bank"
   ]
  },
  {
   "attachments": {},
   "cell_type": "markdown",
   "metadata": {},
   "source": [
    "#### Train Test Split"
   ]
  },
  {
   "attachments": {},
   "cell_type": "markdown",
   "metadata": {},
   "source": [
    "Sebelum melakukan *modeling*, data perlu diset menjadi data training dan data test."
   ]
  },
  {
   "cell_type": "code",
   "execution_count": 137,
   "metadata": {},
   "outputs": [],
   "source": [
    "# Import Library\n",
    "from sklearn.model_selection import train_test_split"
   ]
  },
  {
   "cell_type": "code",
   "execution_count": 138,
   "metadata": {},
   "outputs": [],
   "source": [
    "# Define variable x dan y\n",
    "x = bank.drop('deposit', axis=1)\n",
    "y = bank['deposit']"
   ]
  },
  {
   "cell_type": "code",
   "execution_count": 139,
   "metadata": {},
   "outputs": [],
   "source": [
    "# Melakukan train test split\n",
    "xtrain, xtest, ytrain, ytest = train_test_split(x, y, stratify=y, test_size=0.2, random_state=2023)"
   ]
  },
  {
   "attachments": {},
   "cell_type": "markdown",
   "metadata": {},
   "source": [
    "#### Modeling"
   ]
  },
  {
   "attachments": {},
   "cell_type": "markdown",
   "metadata": {},
   "source": [
    "Setelah melakukan scaling, hal berikutnya yang harus dilakukan adalah memasukkan data hasil split train dan test data ke dalam berbagai macam model."
   ]
  },
  {
   "cell_type": "code",
   "execution_count": 140,
   "metadata": {},
   "outputs": [],
   "source": [
    "# Import Library\n",
    "from sklearn.linear_model import LogisticRegression\n",
    "from sklearn.tree import DecisionTreeClassifier\n",
    "from sklearn.neighbors import KNeighborsClassifier\n",
    "from sklearn.ensemble import RandomForestClassifier\n",
    "from sklearn.svm import SVC\n",
    "from sklearn.naive_bayes import GaussianNB\n",
    "from xgboost import XGBClassifier\n",
    "from sklearn.metrics import classification_report, precision_score\n",
    "from sklearn.preprocessing import MinMaxScaler"
   ]
  },
  {
   "cell_type": "code",
   "execution_count": 141,
   "metadata": {},
   "outputs": [],
   "source": [
    "logreg = LogisticRegression()\n",
    "knn = KNeighborsClassifier()\n",
    "dt = DecisionTreeClassifier(random_state=2023)\n",
    "rf = RandomForestClassifier(random_state=2023)\n",
    "xgb = XGBClassifier(random_state=2023)\n",
    "svm = SVC()"
   ]
  },
  {
   "cell_type": "code",
   "execution_count": 142,
   "metadata": {},
   "outputs": [
    {
     "name": "stdout",
     "output_type": "stream",
     "text": [
      "[0.67783985 0.63475177 0.7030303  0.66356877 0.66731898] LogisticRegression()\n",
      "[0.66216216 0.63853211 0.66202783 0.64140481 0.62851406] KNeighborsClassifier()\n",
      "[0.57350565 0.61780105 0.57903494 0.590625   0.60810811] DecisionTreeClassifier(random_state=2023)\n",
      "[0.70919325 0.71701721 0.71314741 0.67992424 0.69168357] RandomForestClassifier(random_state=2023)\n",
      "[0.65867159 0.62786596 0.69498069 0.63028169 0.65607477] SVC()\n",
      "[0.71656687 0.73387097 0.70517928 0.67735849 0.69105691] XGBClassifier(base_score=None, booster=None, callbacks=None,\n",
      "              colsample_bylevel=None, colsample_bynode=None,\n",
      "              colsample_bytree=None, early_stopping_rounds=None,\n",
      "              enable_categorical=False, eval_metric=None, feature_types=None,\n",
      "              gamma=None, gpu_id=None, grow_policy=None, importance_type=None,\n",
      "              interaction_constraints=None, learning_rate=None, max_bin=None,\n",
      "              max_cat_threshold=None, max_cat_to_onehot=None,\n",
      "              max_delta_step=None, max_depth=None, max_leaves=None,\n",
      "              min_child_weight=None, missing=nan, monotone_constraints=None,\n",
      "              n_estimators=100, n_jobs=None, num_parallel_tree=None,\n",
      "              predictor=None, random_state=2023, ...)\n"
     ]
    },
    {
     "data": {
      "text/html": [
       "<div>\n",
       "<style scoped>\n",
       "    .dataframe tbody tr th:only-of-type {\n",
       "        vertical-align: middle;\n",
       "    }\n",
       "\n",
       "    .dataframe tbody tr th {\n",
       "        vertical-align: top;\n",
       "    }\n",
       "\n",
       "    .dataframe thead th {\n",
       "        text-align: right;\n",
       "    }\n",
       "</style>\n",
       "<table border=\"1\" class=\"dataframe\">\n",
       "  <thead>\n",
       "    <tr style=\"text-align: right;\">\n",
       "      <th></th>\n",
       "      <th>Nilai Rata-Rata Precision Score</th>\n",
       "    </tr>\n",
       "    <tr>\n",
       "      <th>Model</th>\n",
       "      <th></th>\n",
       "    </tr>\n",
       "  </thead>\n",
       "  <tbody>\n",
       "    <tr>\n",
       "      <th>XGBoost</th>\n",
       "      <td>0.704807</td>\n",
       "    </tr>\n",
       "    <tr>\n",
       "      <th>Random Forest</th>\n",
       "      <td>0.702193</td>\n",
       "    </tr>\n",
       "    <tr>\n",
       "      <th>Logistic Regression</th>\n",
       "      <td>0.669302</td>\n",
       "    </tr>\n",
       "    <tr>\n",
       "      <th>SVClassifier</th>\n",
       "      <td>0.653575</td>\n",
       "    </tr>\n",
       "    <tr>\n",
       "      <th>KNN</th>\n",
       "      <td>0.646528</td>\n",
       "    </tr>\n",
       "    <tr>\n",
       "      <th>Decision Tree</th>\n",
       "      <td>0.593815</td>\n",
       "    </tr>\n",
       "  </tbody>\n",
       "</table>\n",
       "</div>"
      ],
      "text/plain": [
       "                     Nilai Rata-Rata Precision Score\n",
       "Model                                               \n",
       "XGBoost              0.704807                       \n",
       "Random Forest        0.702193                       \n",
       "Logistic Regression  0.669302                       \n",
       "SVClassifier         0.653575                       \n",
       "KNN                  0.646528                       \n",
       "Decision Tree        0.593815                       "
      ]
     },
     "execution_count": 142,
     "metadata": {},
     "output_type": "execute_result"
    }
   ],
   "source": [
    "# Scaling data dengan menggunakan MinMaxScaler\n",
    "scaler = MinMaxScaler()\n",
    "\n",
    "# Models yang akan diuji nilai precisionnya\n",
    "models = [logreg, knn, dt, rf, svm, xgb]\n",
    "\n",
    "score_precision = []\n",
    "nilai_mean_precision = []\n",
    "nilai_std_precision = []\n",
    "\n",
    "# Mencari algoritma terbaik berdasarkan tiap metrics\n",
    "for i in models:\n",
    "    \n",
    "    skfold = StratifiedKFold()\n",
    "\n",
    "    estimator = Pipeline([\n",
    "    ('preprocessor', transformer),\n",
    "    ('model', i)\n",
    "    ])\n",
    "\n",
    "    # Precision Score\n",
    "    model_cv_precision = cross_val_score(\n",
    "        estimator, \n",
    "        xtrain, \n",
    "        ytrain, \n",
    "        cv=skfold, \n",
    "        scoring='precision'\n",
    "        )\n",
    "\n",
    "    print(model_cv_precision, i)\n",
    "\n",
    "    score_precision.append(model_cv_precision)\n",
    "    nilai_mean_precision.append(model_cv_precision.mean())\n",
    "    nilai_std_precision.append(model_cv_precision.std())\n",
    "\n",
    "dfPrecision = pd.DataFrame({'Model':['Logistic Regression', 'KNN', 'Decision Tree', 'Random Forest', 'SVClassifier', 'XGBoost'],\n",
    "             'Nilai Rata-Rata Precision Score':nilai_mean_precision}).set_index('Model').sort_values(by='Nilai Rata-Rata Precision Score', ascending=False)\n",
    "dfPrecision"
   ]
  },
  {
   "attachments": {},
   "cell_type": "markdown",
   "metadata": {},
   "source": [
    "Berdasarkan *looping* dari setiap model dengan *metrics precision*, maka model yang memiliki nilai rata-rata *precision* yang paling tinggi adalah XGBoost. XGBoost adalah implementasi dari *gradient boosting*. *Gradient boosting* bekerja dengan cara membuat kombinasi beberapa *model/learner* yang lemah menjadi model tunggal yang dapat membuat prediksi dengan akurat. \n",
    "\n",
    "Ide dibalik *gradient boosting* adalah dengan melatih beberapa model yang simpel, seperti *decision tree*, dari *residual error* model sebelumnya. Residual error ini adalah selisih dari nilai target aktual dengan prediksinya yang dibuat dengan model sebelumnya. Model yang baru akan dilatih agar cocok dengan *residual error* ini dan akhirnya prediksi dari seluruh model dikombinasikan untuk membuat prediksi akhir."
   ]
  },
  {
   "attachments": {},
   "cell_type": "markdown",
   "metadata": {},
   "source": [
    "#### Hyperparameter Tuning"
   ]
  },
  {
   "attachments": {},
   "cell_type": "markdown",
   "metadata": {},
   "source": [
    "Setelah mendapatkan model yang punya nilai metrics yang diinginkan, yang perlu dilakukan berikutnya yaitu melakukan *hyperparameter tuning* dengan mencari parameter optimal untuk model yang sudah dipilih."
   ]
  },
  {
   "cell_type": "code",
   "execution_count": 143,
   "metadata": {},
   "outputs": [],
   "source": [
    "estimator = Pipeline([\n",
    "    ('preprocessor', transformer),\n",
    "    ('model', xgb)\n",
    "    ])"
   ]
  },
  {
   "cell_type": "code",
   "execution_count": 144,
   "metadata": {},
   "outputs": [
    {
     "name": "stdout",
     "output_type": "stream",
     "text": [
      "best score 0.7697776004754525\n",
      "best param {'model__max_depth': 6, 'model__max_leaves': 2, 'model__n_estimators': 10}\n"
     ]
    }
   ],
   "source": [
    "# Hyperparameter Tuning dengan GridsearchCV\n",
    "\n",
    "hyperparam_space = {\n",
    "    'model__max_leaves': [2, 5, 7, 9, 20, 50, 100],\n",
    "    'model__max_depth' : [2, 5, 6, 7, 9, 10, 50, 100],\n",
    "    'model__n_estimators': [5, 10, 20, 50, 70, 90, 100],\n",
    "}\n",
    "\n",
    "skfold = StratifiedKFold(n_splits = 5)\n",
    "xgb = XGBClassifier(random_state = 2023)\n",
    "grid_search = GridSearchCV(\n",
    "    estimator, \n",
    "    param_grid = hyperparam_space,\n",
    "    cv = skfold, \n",
    "    scoring = 'precision', \n",
    "    n_jobs = -1 \n",
    ")\n",
    "\n",
    "grid_search.fit(xtrain, ytrain)\n",
    "\n",
    "print('best score',grid_search.best_score_)\n",
    "print('best param',grid_search.best_params_)"
   ]
  },
  {
   "cell_type": "code",
   "execution_count": 145,
   "metadata": {},
   "outputs": [],
   "source": [
    "# Masukkan semua parameter terbaik ke dalam estimator\n",
    "estimator = Pipeline([\n",
    "    ('preprocessor', transformer),\n",
    "    ('model', XGBClassifier(max_depth=6, max_leaves=2, n_estimators=10))\n",
    "    ])"
   ]
  },
  {
   "cell_type": "code",
   "execution_count": 146,
   "metadata": {},
   "outputs": [
    {
     "name": "stdout",
     "output_type": "stream",
     "text": [
      "              precision    recall  f1-score   support\n",
      "\n",
      "           0       0.67      0.86      0.75       816\n",
      "           1       0.78      0.53      0.63       747\n",
      "\n",
      "    accuracy                           0.70      1563\n",
      "   macro avg       0.72      0.70      0.69      1563\n",
      "weighted avg       0.72      0.70      0.69      1563\n",
      "\n"
     ]
    }
   ],
   "source": [
    "# Fit estimator ke data train\n",
    "estimator.fit(xtrain, ytrain)\n",
    "ypred = estimator.predict(xtest)\n",
    "print(classification_report(ytest, ypred))"
   ]
  },
  {
   "cell_type": "code",
   "execution_count": 147,
   "metadata": {},
   "outputs": [
    {
     "name": "stdout",
     "output_type": "stream",
     "text": [
      "Classification Report Tuned XGBoost : \n",
      "               precision    recall  f1-score   support\n",
      "\n",
      "           0       0.67      0.86      0.75       816\n",
      "           1       0.78      0.53      0.63       747\n",
      "\n",
      "    accuracy                           0.70      1563\n",
      "   macro avg       0.72      0.70      0.69      1563\n",
      "weighted avg       0.72      0.70      0.69      1563\n",
      "\n"
     ]
    }
   ],
   "source": [
    "# Final Model\n",
    "estimator = Pipeline([\n",
    "    ('preprocessor', transformer),\n",
    "    ('model', XGBClassifier(max_depth=6, max_leaves=2, n_estimators=10))\n",
    "    ])\n",
    "\n",
    "print('Classification Report Tuned XGBoost : \\n', classification_report(ytest, ypred))"
   ]
  },
  {
   "attachments": {},
   "cell_type": "markdown",
   "metadata": {},
   "source": [
    "Setelah tuning, didapatkan bahwa nilai *precision* naik dari 70.4% menjadi 78%. *Parameter* yang sudah dicek dengan menggunakan GridSearchCV menghasilkan model **XGBClassifier** dengan **max_depth** = 6, **max_leaves** = 2, dan **n_estimators** = 10. Model ini ditetapkan menjadi model final yang sudah siap di *deploy* untuk digunakan oleh pihak bank."
   ]
  },
  {
   "attachments": {},
   "cell_type": "markdown",
   "metadata": {},
   "source": [
    "## Summary & Recommendation"
   ]
  },
  {
   "attachments": {},
   "cell_type": "markdown",
   "metadata": {},
   "source": [
    "### Summary\n",
    "Berdasarkan pada nilai recallnya, maka dapat dikatakan model kita dapat menyaring 86% nasabah yang tidak tertarik dengan *term deposit* yang tidak perlu di-*approach* dan 53% orang yang tertarik dengan *term deposit* dari seluruh nasabah bank (berdasarkan nilai recallnya).\n",
    "\n",
    "Dengan melihat nilai *precision*-nya maka dapat disimpulkan bahwa model kita dapat memprediksi secara tepat 78% nasabah yang membeli *term deposit* dan 67% lebih tepat dalam menentukan nasabah yang tidak membeli *term deposit*. Jadi perusahaan ingin untuk mengoptimalkan nilai *precision* ini supaya dapat membedakan nasabah yang memiliki ciri-ciri ingin membeli *term deposit* dan akhirnya membeli *term deposit* (True Positive). Dan juga menghindari nasabah yang memiliki ciri-ciri yang menunjukkan ketidaktertarikan terhadap *term deposit* namun akhirnya tidak membeli *term deposit*. Sehingga, pihak bank dapat melakukan efisiensi *budget* dan melakukan campaign ke orang yang tepat."
   ]
  },
  {
   "attachments": {},
   "cell_type": "markdown",
   "metadata": {},
   "source": [
    "### Recommendation\n",
    "\n",
    "Hal-hal yang bisa dilakukan untuk mengembangkan project dan model ini antara lain :\n",
    "\n",
    "1. Data pada kolom `balance` dan `pdays` menunjukkan adanya anomali. Dimana terdapat nasabah yang balancenya negatif dan di kolom `default`-nya menunjukkan bahwa dia melakukan deposit. Dan di kolom `pdays` ada data yang menunjukkan selisih hari dari campaign sebelumnya dengan value -1. Hal ini perlu diperhatikan lebih lagi untuk kelanjutan project ini agar kedepannya didapatkan data yang lebih baik lagi. \n",
    "\n",
    "2. Melakukan *hyperparameter tuning* untuk lebih dari 1 model. Hal ini dapat dilakukan kedepannya sehingga tim data memiliki perbandingan untuk mencari model mana yang punya nilai *metrics* yang terbaik.\n",
    "\n",
    "3. Perlu dilakukannya analisa yang lebih untuk data yang memiliki kesalahan dalam melakukan prediksi."
   ]
  }
 ],
 "metadata": {
  "kernelspec": {
   "display_name": "base",
   "language": "python",
   "name": "python3"
  },
  "language_info": {
   "codemirror_mode": {
    "name": "ipython",
    "version": 3
   },
   "file_extension": ".py",
   "mimetype": "text/x-python",
   "name": "python",
   "nbconvert_exporter": "python",
   "pygments_lexer": "ipython3",
   "version": "3.9.13"
  },
  "orig_nbformat": 4,
  "vscode": {
   "interpreter": {
    "hash": "40d3a090f54c6569ab1632332b64b2c03c39dcf918b08424e98f38b5ae0af88f"
   }
  }
 },
 "nbformat": 4,
 "nbformat_minor": 2
}
